{
 "cells": [
  {
   "cell_type": "code",
   "execution_count": 1,
   "metadata": {},
   "outputs": [
    {
     "ename": "SyntaxError",
     "evalue": "invalid syntax (<ipython-input-1-2ede870003b4>, line 1)",
     "output_type": "error",
     "traceback": [
      "\u001b[0;36m  File \u001b[0;32m\"<ipython-input-1-2ede870003b4>\"\u001b[0;36m, line \u001b[0;32m1\u001b[0m\n\u001b[0;31m    var list:[Int] = [2,3,4,5,6,7,8,9,10]\u001b[0m\n\u001b[0m           ^\u001b[0m\n\u001b[0;31mSyntaxError\u001b[0m\u001b[0;31m:\u001b[0m invalid syntax\n"
     ]
    }
   ],
   "source": [
    "var list:[Int] = [2,3,4,5,6,7,8,9,10]\n",
    "var list1:[Int] = []\n",
    "var list2:[Int] = []\n",
    "\n",
    "for i in 0...list.count-1\n",
    "{\n",
    "    if list1.contains(list[i]) == true\n",
    "    {\n",
    "        print(\"\\(i) 는 소수가 아닙니다.\")\n",
    "    }\n",
    "        \n",
    "    else if list1.contains(list[i]) == false //list1 안에 list값이 들어있지않으면 -> 소수\n",
    "    {\n",
    "        list2.insert(list[i], at: 0)\n",
    "        \n",
    "        while list[i] <= list[list.count-1]\n",
    "        {\n",
    "            list[i] += list[i]\n",
    "            list1.insert(list[i], at: 0)\n",
    "            \n",
    "        }\n",
    "    }\n",
    "    \n",
    "    \n",
    "}\n",
    "\n",
    "print(list1)\n",
    "print(list2)\n"
   ]
  },
  {
   "cell_type": "code",
   "execution_count": 12,
   "metadata": {},
   "outputs": [
    {
     "name": "stdout",
     "output_type": "stream",
     "text": [
      "list[i] 는 소수가아닙니다.\n",
      "list[i] 는 소수가아닙니다.\n",
      "[6, 12, 8, 16, 10, 20, 14, 18]\n",
      "[3, 4, 5, 7, 9]\n"
     ]
    }
   ],
   "source": [
    "list = [2,3,4,5,6,7,8,9,10]\n",
    "list1 = []\n",
    "list2 = []\n",
    "\n",
    "for i in range(1, len(list)-1):\n",
    "    \n",
    "    if list[i] in list1:\n",
    "        print(\"list[i] 는 소수가아닙니다.\".format(list[i]))\n",
    "    else:\n",
    "        list2.append(list[i])\n",
    "        \n",
    "        while list[i] <= list[len(list)-1]:\n",
    "            list[i] += list[i]\n",
    "            list1.append(list[i])\n",
    "    \n",
    "print(list1)\n",
    "print(list2)\n"
   ]
  },
  {
   "cell_type": "code",
   "execution_count": 1,
   "metadata": {},
   "outputs": [
    {
     "name": "stdout",
     "output_type": "stream",
     "text": [
      "list[i] 는 소수가아닙니다.\n",
      "list[i] 는 소수가아닙니다.\n",
      "list[i] 는 소수가아닙니다.\n",
      "list[i] 는 소수가아닙니다.\n",
      "list[i] 는 소수가아닙니다.\n",
      "[2, 4, 6, 8, 10, 12, 3, 6, 9, 12, 5, 10, 15, 7, 14, 11, 22]\n",
      "[2, 3, 5, 7, 11]\n",
      "10\n",
      "9\n"
     ]
    }
   ],
   "source": [
    "list = [2,3,4,5,6,7,8,9,10,11]\n",
    "list1 = []\n",
    "list2 = []\n",
    "\n",
    "\n",
    "for i in range(0, len(list)):\n",
    "    x = 0\n",
    "    if list[i] in list1: # list1은 i의 배수 들어가있는곳, list2는 소수 모아놓은곳.\n",
    "        print(\"list[i] 는 소수가아닙니다.\".format(list[i]))\n",
    "    else:\n",
    "        list2.append(list[i])\n",
    "        \n",
    "        while x <= list[len(list)-1]:\n",
    "            x += list[i]\n",
    "            list1.append(x)\n",
    "            \n",
    "            \n",
    "            #list[i] += list[i]\n",
    "            #list1.append(list[i])\n",
    "    \n",
    "print(list1)\n",
    "print(list2)\n",
    "\n",
    "print(len(list))\n",
    "print(len(list)-1)\n"
   ]
  },
  {
   "cell_type": "code",
   "execution_count": null,
   "metadata": {
    "collapsed": true
   },
   "outputs": [],
   "source": []
  },
  {
   "cell_type": "code",
   "execution_count": null,
   "metadata": {
    "collapsed": true
   },
   "outputs": [],
   "source": []
  },
  {
   "cell_type": "code",
   "execution_count": 33,
   "metadata": {},
   "outputs": [
    {
     "ename": "SyntaxError",
     "evalue": "invalid syntax (<ipython-input-33-d57118b983d9>, line 1)",
     "output_type": "error",
     "traceback": [
      "\u001b[0;36m  File \u001b[0;32m\"<ipython-input-33-d57118b983d9>\"\u001b[0;36m, line \u001b[0;32m1\u001b[0m\n\u001b[0;31m    func ceasar(_ data:String,_ data1:String,_ data2:String,_ data3:String,_ keynum:Int = 4)\u001b[0m\n\u001b[0m              ^\u001b[0m\n\u001b[0;31mSyntaxError\u001b[0m\u001b[0;31m:\u001b[0m invalid syntax\n"
     ]
    }
   ],
   "source": [
    "func ceasar(_ data:String,_ data1:String,_ data2:String,_ data3:String,_ keynum:Int = 4)\n",
    "{\n",
    "    var list:[String] = [\"a\",\"b\",\"c\",\"d\",\"e\",\"f\",\"g\",\"h\"]\n",
    "    var list1:[String] = []\n",
    "    var data:String = data\n",
    "    \n",
    "    \n",
    "    for i in 1...list.count\n",
    "    {\n",
    "        if \"\\(data)\" == list[i-1]\n",
    "        {\n",
    "            if \"\\(data)\" == list[list.count-4] //list.count-1 은 index의 마지막 값 -> 인덱스 넘어가면 앞으로 돌려줌\n",
    "            {\n",
    "                list1.append(list[0])\n",
    "            }\n",
    "            else if \"\\(data)\" == list[list.count-3]\n",
    "            {\n",
    "                list1.append(list[1])\n",
    "            }\n",
    "            else if \"\\(data)\" == list[list.count-2]\n",
    "            {\n",
    "                list.append(list[2])\n",
    "            }\n",
    "            else if \"\\(data)\" == list[list.count-1]\n",
    "            {\n",
    "                list1.append(list[3])\n",
    "            }else {\n",
    "                list1.append(list[i-1+keynum])\n",
    "            }\n",
    "            \n",
    "            \n",
    "        }\n",
    "        \n",
    "\n"
   ]
  },
  {
   "cell_type": "code",
   "execution_count": 43,
   "metadata": {},
   "outputs": [
    {
     "name": "stdout",
     "output_type": "stream",
     "text": [
      "b가 같지 않습니다\n",
      "c가 같지 않습니다\n",
      "d가 같지 않습니다\n",
      "e가 같지 않습니다\n",
      "f가 같지 않습니다\n",
      "g가 같지 않습니다\n",
      "h가 같지 않습니다\n",
      "['d']\n"
     ]
    }
   ],
   "source": [
    "def func(n, keynum = 4):\n",
    "    list = [\"a\",\"b\",\"c\",\"d\",\"e\",\"f\",\"g\",\"h\"]\n",
    "    list1 = []\n",
    "    list2 = []\n",
    "    \n",
    "    \n",
    "    for i in list:\n",
    "        if i == n:\n",
    "            if i == list[]\n",
    "            \n",
    "            \n",
    "            \n",
    "            \n",
    "            list1.append(list[keynum-1])\n",
    "        \n",
    "        elif i == \n",
    "        else:\n",
    "            print(\"{}가 같지 않습니다\".format(i))\n",
    "            \n",
    "            \n",
    "    print(list1)\n",
    "    \n",
    "    \n",
    "    \n",
    "func(\"a\")"
   ]
  },
  {
   "cell_type": "code",
   "execution_count": 39,
   "metadata": {},
   "outputs": [
    {
     "name": "stdout",
     "output_type": "stream",
     "text": [
      "a\n",
      "b\n",
      "c\n",
      "d\n",
      "e\n",
      "f\n",
      "g\n",
      "h\n"
     ]
    }
   ],
   "source": [
    "list = [\"a\",\"b\",\"c\",\"d\",\"e\",\"f\",\"g\",\"h\"]\n",
    "\n",
    "for i in list:\n",
    "    print(i)"
   ]
  },
  {
   "cell_type": "code",
   "execution_count": null,
   "metadata": {
    "collapsed": true
   },
   "outputs": [],
   "source": []
  },
  {
   "cell_type": "code",
   "execution_count": null,
   "metadata": {
    "collapsed": true
   },
   "outputs": [],
   "source": []
  },
  {
   "cell_type": "code",
   "execution_count": null,
   "metadata": {
    "collapsed": true
   },
   "outputs": [],
   "source": []
  },
  {
   "cell_type": "code",
   "execution_count": 3,
   "metadata": {
    "collapsed": true
   },
   "outputs": [],
   "source": [
    "import time"
   ]
  },
  {
   "cell_type": "code",
   "execution_count": 26,
   "metadata": {},
   "outputs": [
    {
     "name": "stdout",
     "output_type": "stream",
     "text": [
      "[2, 3, 4, 5, 6, 7, 8, 9, 10, 11, 12, 13]\n",
      "list[i] 는 소수가아닙니다.\n",
      "list[i] 는 소수가아닙니다.\n",
      "list[i] 는 소수가아닙니다.\n",
      "list[i] 는 소수가아닙니다.\n",
      "list[i] 는 소수가아닙니다.\n",
      "list[i] 는 소수가아닙니다.\n",
      "[2, 3, 5, 7, 11, 13] 0.00102996826171875\n"
     ]
    }
   ],
   "source": [
    "list = []\n",
    "list1 = []\n",
    "list2 = []\n",
    "\n",
    "for i in range(2, 13+1):\n",
    "    list.append(i)\n",
    "    \n",
    "print(list)\n",
    "\n",
    "start = time.time()\n",
    "for i in range(0, len(list)):\n",
    "    x = 0\n",
    "    if list[i] in list1: # list1은 i의 배수 들어가있는곳, list2는 소수 모아놓은곳.\n",
    "        print(\"list[i] 는 소수가아닙니다.\".format(list[i]))\n",
    "    else:\n",
    "        list2.append(list[i])\n",
    "        \n",
    "        while x <= list[len(list)-1]:\n",
    "            x += list[i]\n",
    "            list1.append(x)\n",
    "            \n",
    "end = time.time()\n",
    "            #list[i] += list[i]\n",
    "            #list1.append(list[i])\n",
    "\n",
    "\n",
    "print(list2, end-start)"
   ]
  },
  {
   "cell_type": "code",
   "execution_count": null,
   "metadata": {
    "collapsed": true
   },
   "outputs": [],
   "source": []
  },
  {
   "cell_type": "code",
   "execution_count": null,
   "metadata": {
    "collapsed": true
   },
   "outputs": [],
   "source": []
  },
  {
   "cell_type": "code",
   "execution_count": null,
   "metadata": {
    "collapsed": true
   },
   "outputs": [],
   "source": []
  },
  {
   "cell_type": "code",
   "execution_count": null,
   "metadata": {
    "collapsed": true
   },
   "outputs": [],
   "source": []
  },
  {
   "cell_type": "code",
   "execution_count": 17,
   "metadata": {},
   "outputs": [
    {
     "data": {
      "text/plain": [
       "14"
      ]
     },
     "execution_count": 17,
     "metadata": {},
     "output_type": "execute_result"
    }
   ],
   "source": [
    "# 각 자리수 더하는 함수 -> 1번 문제 해결.\n",
    "\n",
    "def func(n):\n",
    "    answer = 0\n",
    "    \n",
    "    while n > 1 or n == 0:\n",
    "        if n % 10 == 0:  # 이 부분을 추가해주지 않으면 10 일경우 0 이 출력됨!\n",
    "            answer = 1\n",
    "            break\n",
    "        else:\n",
    "            answer += (n%10)\n",
    "            n = n // 10 \n",
    "    \n",
    "    return answer\n",
    "\n",
    "func(12345)\n"
   ]
  },
  {
   "cell_type": "code",
   "execution_count": 59,
   "metadata": {},
   "outputs": [
    {
     "data": {
      "text/plain": [
       "True"
      ]
     },
     "execution_count": 59,
     "metadata": {},
     "output_type": "execute_result"
    }
   ],
   "source": [
    "# 길이가 n인 배열에 1부터 n 까지 숫자가 중복 없이 한번씩 들어 있는지를 확인하려고함. \n",
    "\n",
    "def func1(n):\n",
    "    list = []\n",
    "    add_num_value = 0\n",
    "    total_value = [1,3,6,10,15,21,28,36,45,55]\n",
    "    \n",
    "\n",
    "    for i in range(0, len(n)):\n",
    "        if n[i] in list:\n",
    "            None\n",
    "        else:\n",
    "            list.append(n[i])\n",
    "            \n",
    "    #list 에 들어온 n 값이 중복이 있나 검사후 list에 넣은것.\n",
    "    if len(list) != len(n): # 중복이 있는 경우 False 반환해줌.\n",
    "        return False\n",
    "    else:\n",
    "        None\n",
    "        \n",
    "    # 중복이 없는 경우, 리스트에 \n",
    "    \n",
    "    for j in list: \n",
    "        add_num_value += j\n",
    "    # add_num_value에 input 값의 합이 들어가 있음.\n",
    "    \n",
    "    list_len = len(list) # = 현재 값 4\n",
    "    add = 0\n",
    "    \n",
    "    while list_len > 0:\n",
    "        add += list_len\n",
    "        list_len -= 1\n",
    "    \n",
    "    # add 에 len(list)의 길이의 값이 들어있음.\n",
    "    \n",
    "    if add_num_value == add:\n",
    "        return True\n",
    "    else:\n",
    "        return False\n",
    "        \n",
    "\n",
    "    \n",
    "    \n",
    "n = [1,2,3,4,5,6,7,8,9,10]\n",
    "func1(n)"
   ]
  },
  {
   "cell_type": "code",
   "execution_count": 76,
   "metadata": {},
   "outputs": [
    {
     "data": {
      "text/plain": [
       "1"
      ]
     },
     "execution_count": 76,
     "metadata": {},
     "output_type": "execute_result"
    }
   ],
   "source": [
    "a = [[1,4], [3,4],[3,10]] # 리턴값 [1,10]\n"
   ]
  },
  {
   "cell_type": "code",
   "execution_count": null,
   "metadata": {
    "collapsed": true
   },
   "outputs": [],
   "source": []
  },
  {
   "cell_type": "code",
   "execution_count": null,
   "metadata": {},
   "outputs": [],
   "source": []
  },
  {
   "cell_type": "code",
   "execution_count": null,
   "metadata": {
    "collapsed": true
   },
   "outputs": [],
   "source": []
  }
 ],
 "metadata": {
  "kernelspec": {
   "display_name": "Python 3",
   "language": "python",
   "name": "python3"
  },
  "language_info": {
   "codemirror_mode": {
    "name": "ipython",
    "version": 3
   },
   "file_extension": ".py",
   "mimetype": "text/x-python",
   "name": "python",
   "nbconvert_exporter": "python",
   "pygments_lexer": "ipython3",
   "version": "3.6.2"
  }
 },
 "nbformat": 4,
 "nbformat_minor": 2
}
